{
 "cells": [
  {
   "cell_type": "code",
   "execution_count": 1,
   "id": "906d8958",
   "metadata": {},
   "outputs": [
    {
     "name": "stderr",
     "output_type": "stream",
     "text": [
      "2022-10-11 14:30:21.352236: I tensorflow/core/util/util.cc:169] oneDNN custom operations are on. You may see slightly different numerical results due to floating-point round-off errors from different computation orders. To turn them off, set the environment variable `TF_ENABLE_ONEDNN_OPTS=0`.\n",
      "2022-10-11 14:30:21.357885: W tensorflow/stream_executor/platform/default/dso_loader.cc:64] Could not load dynamic library 'libcudart.so.11.0'; dlerror: libcudart.so.11.0: cannot open shared object file: No such file or directory\n",
      "2022-10-11 14:30:21.357907: I tensorflow/stream_executor/cuda/cudart_stub.cc:29] Ignore above cudart dlerror if you do not have a GPU set up on your machine.\n"
     ]
    }
   ],
   "source": [
    "import pandas as pd\n",
    "import numpy as np\n",
    "import scipy.stats as stats\n",
    "import warnings\n",
    "warnings.filterwarnings('ignore')\n",
    "import matplotlib.pyplot as plt\n",
    "import time\n",
    "from tensorflow.keras.models import Sequential\n",
    "from tensorflow.keras.layers import Flatten, Dense, Dropout\n",
    "from tensorflow.keras import optimizers\n",
    "from tensorflow.keras.callbacks import EarlyStopping\n",
    "import tensorflow as tf\n",
    "%matplotlib inline\n",
    "import xgboost as xgb\n",
    "\n",
    "import fun1\n",
    "import noniid"
   ]
  },
  {
   "cell_type": "code",
   "execution_count": 2,
   "id": "c706f904",
   "metadata": {},
   "outputs": [],
   "source": [
    "def create_keras_model(tr_x):\n",
    "    initializer = tf.keras.initializers.GlorotNormal()\n",
    "    model = Sequential()\n",
    "    model.add(Dense(20, activation = 'relu', \n",
    "                    input_shape=(tr_x.shape[1],), \n",
    "                    kernel_initializer=initializer))\n",
    "    model.add(Dense(15, activation = 'relu', \n",
    "                    kernel_initializer=initializer))\n",
    "    model.add(Dense(10, activation = 'relu', \n",
    "                    kernel_initializer=initializer))\n",
    "    model.add(Dense(1, activation = 'sigmoid', \n",
    "                    kernel_initializer=initializer))\n",
    "    return model   "
   ]
  },
  {
   "cell_type": "code",
   "execution_count": 3,
   "id": "afbcae93",
   "metadata": {},
   "outputs": [],
   "source": [
    "def create_and_compile_model(tr_x, merge_w):\n",
    "    \n",
    "    model_m4 = create_keras_model(tr_x)\n",
    "    model_m4.set_weights(merge_w)\n",
    "    model_m4.compile(optimizer = optimizers.RMSprop(lr=1e-3), \n",
    "                     loss = 'binary_crossentropy', \n",
    "                     metrics = ['accuracy'])\n",
    "    return model_m4"
   ]
  },
  {
   "cell_type": "code",
   "execution_count": 4,
   "id": "c178c63c",
   "metadata": {},
   "outputs": [],
   "source": [
    "from tensorflow.keras.callbacks import EarlyStopping\n",
    "def model_train_round(\n",
    "    model_m3, m3_tr_x, m3_tr_y, bs):\n",
    "    \n",
    "    callback = EarlyStopping(monitor='loss', \n",
    "                             patience=50, \n",
    "                             restore_best_weights=True)\n",
    "\n",
    "    model_m3.fit(m3_tr_x, m3_tr_y, \n",
    "                 batch_size = bs, epochs = epo_num, \n",
    "                 verbose = 0, callbacks=[callback])  \n",
    "    return model_m3"
   ]
  },
  {
   "cell_type": "code",
   "execution_count": 5,
   "id": "9b6beee8",
   "metadata": {},
   "outputs": [],
   "source": [
    "def final_non_iid(tr_nn, ts_nn):\n",
    "    tr_w = tr_nn.layers[-1].get_weights()[0]\n",
    "    ts_w = ts_nn.layers[-1].get_weights()[0]\n",
    "    \n",
    "    tr_ts_w_diff = np.ravel(np.subtract(tr_w, ts_w))\n",
    "    ori_points = np.zeros(len(tr_ts_w_diff))\n",
    "    tr_ts_w_diff_norm = np.linalg.norm(\n",
    "        tr_ts_w_diff - ori_points)\n",
    "    \n",
    "    tr_w_norm = np.linalg.norm(\n",
    "        np.ravel(tr_w) - ori_points)    \n",
    "    non_iid = tr_ts_w_diff_norm/tr_w_norm\n",
    "    return non_iid"
   ]
  },
  {
   "cell_type": "code",
   "execution_count": 6,
   "id": "7ccd087f",
   "metadata": {},
   "outputs": [],
   "source": [
    "path = '/home/ai03/_kunyi/pro_shae/datasets/aki_prediction_m4_m3_eicu/'\n",
    "input_folder = '6tw_6ts_6pre_v1/'\n",
    "input_dir = path+input_folder"
   ]
  },
  {
   "cell_type": "code",
   "execution_count": 7,
   "id": "ff6fd996",
   "metadata": {},
   "outputs": [],
   "source": [
    "k = 5\n",
    "percent = 30\n",
    "sampling_value_ls = list(range(30, 20, -10))\n",
    "epo_num = 1000\n",
    "bs = 50\n",
    "model_types = 'nn'"
   ]
  },
  {
   "cell_type": "code",
   "execution_count": 8,
   "id": "cd541712",
   "metadata": {},
   "outputs": [],
   "source": [
    "plot_d1 = 'eICU-CRD 60% Hospitals'\n",
    "d1 = 'e_0.6'\n",
    "d2 = 'm4'\n",
    "d3 = 'm3'"
   ]
  },
  {
   "cell_type": "code",
   "execution_count": 9,
   "id": "970ec8c3",
   "metadata": {},
   "outputs": [],
   "source": [
    "start_time = time.time()\n",
    "\n",
    "df_d1 = pd.read_csv(\n",
    "    input_dir+\"6hr_{}_commonFs.csv\".format(d1))\n",
    "\n",
    "df_d2 = pd.read_csv(\n",
    "    input_dir+\"6hr_{}_commonFs.csv\".format(d2))\n",
    "\n",
    "df_d3 = pd.read_csv(\n",
    "    input_dir +\"6hr_{}_commonFs.csv\".format(d3))"
   ]
  },
  {
   "cell_type": "code",
   "execution_count": 10,
   "id": "0d9e9bd3",
   "metadata": {},
   "outputs": [],
   "source": [
    "df_cols = df_d1.columns.tolist()\n",
    "cat_f_ls = df_cols[4:6]\n",
    "for i in cat_f_ls:\n",
    "    df_d1[i] = df_d1[i].astype('category').cat.codes\n",
    "    df_d2[i] = df_d2[i].astype('category').cat.codes\n",
    "    df_d3[i] = df_d3[i].astype('category').cat.codes"
   ]
  },
  {
   "cell_type": "code",
   "execution_count": 11,
   "id": "ad353762",
   "metadata": {
    "scrolled": true
   },
   "outputs": [
    {
     "name": "stdout",
     "output_type": "stream",
     "text": [
      "Sampling 30%\n",
      "Round 1\n"
     ]
    },
    {
     "name": "stderr",
     "output_type": "stream",
     "text": [
      "2022-10-11 14:30:27.175382: W tensorflow/stream_executor/platform/default/dso_loader.cc:64] Could not load dynamic library 'libcudart.so.11.0'; dlerror: libcudart.so.11.0: cannot open shared object file: No such file or directory\n",
      "2022-10-11 14:30:27.175535: W tensorflow/stream_executor/platform/default/dso_loader.cc:64] Could not load dynamic library 'libcublas.so.11'; dlerror: libcublas.so.11: cannot open shared object file: No such file or directory\n",
      "2022-10-11 14:30:27.175611: W tensorflow/stream_executor/platform/default/dso_loader.cc:64] Could not load dynamic library 'libcublasLt.so.11'; dlerror: libcublasLt.so.11: cannot open shared object file: No such file or directory\n",
      "2022-10-11 14:30:27.177675: W tensorflow/stream_executor/platform/default/dso_loader.cc:64] Could not load dynamic library 'libcusolver.so.11'; dlerror: libcusolver.so.11: cannot open shared object file: No such file or directory\n",
      "2022-10-11 14:30:27.177747: W tensorflow/stream_executor/platform/default/dso_loader.cc:64] Could not load dynamic library 'libcusparse.so.11'; dlerror: libcusparse.so.11: cannot open shared object file: No such file or directory\n",
      "2022-10-11 14:30:27.177794: W tensorflow/stream_executor/platform/default/dso_loader.cc:64] Could not load dynamic library 'libcudnn.so.8'; dlerror: libcudnn.so.8: cannot open shared object file: No such file or directory\n",
      "2022-10-11 14:30:27.177804: W tensorflow/core/common_runtime/gpu/gpu_device.cc:1850] Cannot dlopen some GPU libraries. Please make sure the missing libraries mentioned above are installed properly if you would like to use GPU. Follow the guide at https://www.tensorflow.org/install/gpu for how to download and setup the required libraries for your platform.\n",
      "Skipping registering GPU devices...\n",
      "2022-10-11 14:30:27.178099: I tensorflow/core/platform/cpu_feature_guard.cc:193] This TensorFlow binary is optimized with oneAPI Deep Neural Network Library (oneDNN) to use the following CPU instructions in performance-critical operations:  AVX2 AVX512F AVX512_VNNI FMA\n",
      "To enable them in other operations, rebuild TensorFlow with the appropriate compiler flags.\n"
     ]
    },
    {
     "name": "stdout",
     "output_type": "stream",
     "text": [
      "Round 2\n",
      "Round 3\n",
      "Round 4\n",
      "Round 5\n"
     ]
    }
   ],
   "source": [
    "noniid_ls_trans_ls = []\n",
    "y_value_ls = []\n",
    "\n",
    "for s_v in sampling_value_ls:\n",
    "    print('Sampling {}%'.format(s_v))\n",
    "    s_v2 = s_v*0.01\n",
    "    noniid_ls = []   \n",
    "    \n",
    "    for r_i in range(1, k+1):    \n",
    "        print('Round {}'.format(r_i))\n",
    "        y_value_ls.append(s_v)\n",
    "        \n",
    "        df2_d1 = df_d1.sample(frac=s_v2, replace=False)\n",
    "        df2_d2 = df_d2.sample(frac=s_v2, replace=False)\n",
    "        df2_d3 = df_d3.sample(frac=s_v2, replace=False)\n",
    "        df_d1d2 = pd.concat([df2_d1, df2_d2])\n",
    "        df_d1d3 = pd.concat([df2_d1, df2_d3])   \n",
    "        \n",
    "        df1_x, df1_y = fun1.df_xy(df2_d1)\n",
    "        df2_x, df2_y = fun1.df_xy(df2_d2)       \n",
    "        df3_x, df3_y = fun1.df_xy(df2_d3)        \n",
    "        df12_x, df12_y = fun1.df_xy(df_d1d2)\n",
    "        df13_x, df13_y = fun1.df_xy(df_d1d3)\n",
    "        \n",
    "        model_0 = create_keras_model(df1_x)\n",
    "        w0 = model_0.get_weights()\n",
    "        \n",
    "        m1 = create_and_compile_model(df1_x, w0)\n",
    "        m2 = create_and_compile_model(df2_x, w0)\n",
    "        m3 = create_and_compile_model(df3_x, w0)\n",
    "        m12 = create_and_compile_model(df12_x, w0)\n",
    "        m13 = create_and_compile_model(df13_x, w0)\n",
    "        \n",
    "        m1_1 = model_train_round(m1, df1_x, df1_y, bs) \n",
    "        m2_1 = model_train_round(m2, df2_x, df2_y, bs) \n",
    "        m3_1 = model_train_round(m3, df3_x, df3_y, bs) \n",
    "        m12_1 = model_train_round(m12, df12_x, df12_y, bs) \n",
    "        m13_1 = model_train_round(m13, df13_x, df13_y, bs) \n",
    "            \n",
    "        d1_non_iid = final_non_iid(m1_1, m1_1) \n",
    "        d2_non_iid = final_non_iid(m1_1, m2_1) \n",
    "        d3_non_iid = final_non_iid(m1_1, m3_1) \n",
    "        d1d2_non_iid = final_non_iid(m1_1, m12_1) \n",
    "        d1d3_non_iid = final_non_iid(m1_1, m13_1)  \n",
    "        \n",
    "        all_dfs_non_iid_ls = [d1_non_iid, d2_non_iid, \n",
    "                              d3_non_iid, d1d2_non_iid, \n",
    "                              d1d3_non_iid]\n",
    "        noniid_ls.append(all_dfs_non_iid_ls)\n",
    "        \n",
    "    noniid_ls_trans = np.array(noniid_ls).T\n",
    "    noniid_ls_trans_ls.append(noniid_ls_trans)"
   ]
  },
  {
   "cell_type": "code",
   "execution_count": 12,
   "id": "4b4c2367",
   "metadata": {},
   "outputs": [],
   "source": [
    "temp_ls = noniid_ls_trans_ls\n",
    "all_dfs_ls = []\n",
    "\n",
    "for df_i in range(0, len(all_dfs_non_iid_ls)):\n",
    "    one_df_temp_ls = []\n",
    "\n",
    "    for ls_i in range(0, len(sampling_value_ls)):\n",
    "        one_df_temp_ls.append(temp_ls[ls_i][df_i])\n",
    "        one_df_temp_ls_1d = np.concatenate(one_df_temp_ls)\n",
    "\n",
    "    all_dfs_ls.append(one_df_temp_ls_1d)"
   ]
  },
  {
   "cell_type": "code",
   "execution_count": 13,
   "id": "165fe63d",
   "metadata": {},
   "outputs": [
    {
     "data": {
      "image/png": "[encoded data removed]",
      "text/plain": [
       "<Figure size 432x288 with 1 Axes>"
      ]
     },
     "metadata": {
      "needs_background": "light"
     },
     "output_type": "display_data"
    }
   ],
   "source": [
    "ax = plt.gca()\n",
    "ax.set_ylim([0, 105])\n",
    "# ax.set_xlim([-0.05, 1.05])\n",
    "# plt.xticks(np.arange(0, 1.1, 0.1))\n",
    "plt.yticks(np.arange(0, 101, 10))\n",
    "\n",
    "plt.plot(all_dfs_ls[0], y_value_ls, \n",
    "         'ko', label='{}'.format(d1))\n",
    "plt.plot(all_dfs_ls[1], y_value_ls, \n",
    "         'ro', label='{}'.format(d2))\n",
    "plt.plot(all_dfs_ls[2], y_value_ls, \n",
    "         'yo', label='{}'.format(d3))\n",
    "# plt.plot(all_dfs_ls[3], y_value_ls, \n",
    "#          'co', label='{} + {}'.format(d1, d2))\n",
    "# plt.plot(all_dfs_ls[4], y_value_ls, \n",
    "#          'go', label='{} + {}'.format(d1, d3))\n",
    "plt.legend(bbox_to_anchor=(1.0, 1.0), loc='upper left')\n",
    "\n",
    "end_time = time.time()\n",
    "elapsed_imte = (end_time - start_time)/60\n",
    "\n",
    "t_str1 = 'Feature Extractor Method: {} Dataset\\n '.format(plot_d1)\n",
    "plt.title(t_str1+'(computational time {:0.1f} min.): \\n predicts next 6hr. AKI'.format(\n",
    "    elapsed_imte), fontsize=15)  \n",
    "plt.ylabel('Data Sampling Percentage', fontsize=15)\n",
    "plt.xlabel('Non-IID Degree', fontsize=15)\n",
    "plt.savefig(\"QM2_{}_pre6hr\".format(\n",
    "    plot_d1), bbox_inches='tight')\n",
    "plt.show()"
   ]
  },
  {
   "cell_type": "code",
   "execution_count": 14,
   "id": "25e04485",
   "metadata": {},
   "outputs": [],
   "source": [
    "def get_df(d1, d2, d3, m3_all_dfs_ls, m3_y_value_ls, elapsed_imte, percent):\n",
    "    x, y = '_x', '_y'\n",
    "    df_ts1 = pd.DataFrame(columns=[d1+x, d1+y, d2+x, \n",
    "                                   d2+y, d3+x, d3+y])\n",
    "    df_ts2 = df_ts1.copy()\n",
    "    for xi, li in zip(range(0, 5, 2), range(0,3)):\n",
    "        df_ts2[df_ts2.columns.tolist()[xi]] = m3_all_dfs_ls[li]\n",
    "        df_ts2[df_ts2.columns.tolist()[xi+1]] = m3_y_value_ls\n",
    "    df_ts2.to_csv(\"M4_{}_time_{:0.1f}_non_iid_{}_percentage.csv\".format(\n",
    "        d1, elapsed_imte, percent), index=False)   \n",
    "    return df_ts2"
   ]
  },
  {
   "cell_type": "code",
   "execution_count": 15,
   "id": "c24fac0e",
   "metadata": {},
   "outputs": [
    {
     "data": {
      "text/html": [
       "<div>\n",
       "<style scoped>\n",
       "    .dataframe tbody tr th:only-of-type {\n",
       "        vertical-align: middle;\n",
       "    }\n",
       "\n",
       "    .dataframe tbody tr th {\n",
       "        vertical-align: top;\n",
       "    }\n",
       "\n",
       "    .dataframe thead th {\n",
       "        text-align: right;\n",
       "    }\n",
       "</style>\n",
       "<table border=\"1\" class=\"dataframe\">\n",
       "  <thead>\n",
       "    <tr style=\"text-align: right;\">\n",
       "      <th></th>\n",
       "      <th>e_0.6_x</th>\n",
       "      <th>e_0.6_y</th>\n",
       "      <th>m4_x</th>\n",
       "      <th>m4_y</th>\n",
       "      <th>m3_x</th>\n",
       "      <th>m3_y</th>\n",
       "    </tr>\n",
       "  </thead>\n",
       "  <tbody>\n",
       "    <tr>\n",
       "      <th>0</th>\n",
       "      <td>0.0</td>\n",
       "      <td>30</td>\n",
       "      <td>0.705093</td>\n",
       "      <td>30</td>\n",
       "      <td>1.634465</td>\n",
       "      <td>30</td>\n",
       "    </tr>\n",
       "    <tr>\n",
       "      <th>1</th>\n",
       "      <td>0.0</td>\n",
       "      <td>30</td>\n",
       "      <td>1.192391</td>\n",
       "      <td>30</td>\n",
       "      <td>1.039858</td>\n",
       "      <td>30</td>\n",
       "    </tr>\n",
       "    <tr>\n",
       "      <th>2</th>\n",
       "      <td>0.0</td>\n",
       "      <td>30</td>\n",
       "      <td>1.623639</td>\n",
       "      <td>30</td>\n",
       "      <td>4.327281</td>\n",
       "      <td>30</td>\n",
       "    </tr>\n",
       "    <tr>\n",
       "      <th>3</th>\n",
       "      <td>0.0</td>\n",
       "      <td>30</td>\n",
       "      <td>0.993999</td>\n",
       "      <td>30</td>\n",
       "      <td>2.458727</td>\n",
       "      <td>30</td>\n",
       "    </tr>\n",
       "    <tr>\n",
       "      <th>4</th>\n",
       "      <td>0.0</td>\n",
       "      <td>30</td>\n",
       "      <td>1.717970</td>\n",
       "      <td>30</td>\n",
       "      <td>1.620178</td>\n",
       "      <td>30</td>\n",
       "    </tr>\n",
       "  </tbody>\n",
       "</table>\n",
       "</div>"
      ],
      "text/plain": [
       "   e_0.6_x  e_0.6_y      m4_x  m4_y      m3_x  m3_y\n",
       "0      0.0       30  0.705093    30  1.634465    30\n",
       "1      0.0       30  1.192391    30  1.039858    30\n",
       "2      0.0       30  1.623639    30  4.327281    30\n",
       "3      0.0       30  0.993999    30  2.458727    30\n",
       "4      0.0       30  1.717970    30  1.620178    30"
      ]
     },
     "execution_count": 15,
     "metadata": {},
     "output_type": "execute_result"
    }
   ],
   "source": [
    "output_df = get_df(d1, d2, d3, \n",
    "                   all_dfs_ls, y_value_ls, \n",
    "                   elapsed_imte, percent)\n",
    "output_df.head()"
   ]
  },
  {
   "cell_type": "code",
   "execution_count": null,
   "id": "426e7411",
   "metadata": {},
   "outputs": [],
   "source": []
  },
  {
   "cell_type": "code",
   "execution_count": null,
   "id": "e2fe7b84",
   "metadata": {},
   "outputs": [],
   "source": []
  },
  {
   "cell_type": "code",
   "execution_count": null,
   "id": "b78a726e",
   "metadata": {},
   "outputs": [],
   "source": []
  }
 ],
 "metadata": {
  "kernelspec": {
   "display_name": "Python 3",
   "language": "python",
   "name": "python3"
  },
  "language_info": {
   "codemirror_mode": {
    "name": "ipython",
    "version": 3
   },
   "file_extension": ".py",
   "mimetype": "text/x-python",
   "name": "python",
   "nbconvert_exporter": "python",
   "pygments_lexer": "ipython3",
   "version": "3.9.12"
  }
 },
 "nbformat": 4,
 "nbformat_minor": 5
}
